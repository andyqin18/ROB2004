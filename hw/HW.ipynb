{
 "cells": [
  {
   "cell_type": "markdown",
   "id": "83afce38",
   "metadata": {},
   "source": [
    "HW3.1. Find a vector given its skew-symmetric matrix representation "
   ]
  },
  {
   "cell_type": "code",
   "execution_count": 1,
   "id": "563f65a4",
   "metadata": {},
   "outputs": [
    {
     "data": {
      "text/plain": [
       "array([[ 5],\n",
       "       [ 3],\n",
       "       [-9]])"
      ]
     },
     "execution_count": 1,
     "metadata": {},
     "output_type": "execute_result"
    }
   ],
   "source": [
    "import numpy as np \n",
    "a_skew = np.array([[ 0, 9, 3], [-9, 0, -5], [-3, 5, 0]])\n",
    "# ===========================================\n",
    "def skewsym2vec(array):\n",
    "    return np.array([array[2][1], array[0][2], array[1][0]]).reshape(3,1)\n",
    "\n",
    "skewsym2vec(a_skew)"
   ]
  },
  {
   "cell_type": "markdown",
   "id": "3a789e65",
   "metadata": {},
   "source": [
    "HW3.2. Find the skew-symmetric matrix representation of a vector "
   ]
  },
  {
   "cell_type": "code",
   "execution_count": 2,
   "id": "639c4f26",
   "metadata": {},
   "outputs": [
    {
     "data": {
      "text/plain": [
       "array([[  0.,  -4.,  -9.],\n",
       "       [  4.,   0., -10.],\n",
       "       [  9.,  10.,   0.]])"
      ]
     },
     "execution_count": 2,
     "metadata": {},
     "output_type": "execute_result"
    }
   ],
   "source": [
    "import numpy as np \n",
    "a = np.array([[10], [-9], [ 4]]) \n",
    "# ===========================================\n",
    "def vec2skewsym(array):\n",
    "    a_skew = np.zeros((3,3))\n",
    "    a_skew[2][1], a_skew[1][2] = array[0], -array[0]\n",
    "    a_skew[0][2], a_skew[2][0] = array[1], -array[1]\n",
    "    a_skew[1][0], a_skew[0][1] = array[2], -array[2]\n",
    "    return a_skew\n",
    "\n",
    "vec2skewsym(a)"
   ]
  },
  {
   "cell_type": "markdown",
   "id": "d8f29dad",
   "metadata": {},
   "source": [
    "HW3.3. Write a matrix expression that implements the cross product "
   ]
  },
  {
   "cell_type": "code",
   "execution_count": 3,
   "id": "5c65c015",
   "metadata": {},
   "outputs": [
    {
     "data": {
      "text/plain": [
       "array([[ 0.,  2., -7.],\n",
       "       [-2.,  0.,  9.],\n",
       "       [ 7., -9.,  0.]])"
      ]
     },
     "execution_count": 3,
     "metadata": {},
     "output_type": "execute_result"
    }
   ],
   "source": [
    "import numpy as np \n",
    "v_in8 = np.array([[-9], [-7], [-2]]) \n",
    "# ===========================================\n",
    "vec2skewsym(v_in8)"
   ]
  },
  {
   "cell_type": "markdown",
   "id": "2285562f",
   "metadata": {},
   "source": [
    "HW3.4. Find the time derivative of a rotation matrix given angular velocity "
   ]
  },
  {
   "cell_type": "code",
   "execution_count": 4,
   "id": "b83476c2",
   "metadata": {},
   "outputs": [
    {
     "data": {
      "text/plain": [
       "array([[ 0.48381285,  0.74445373, -0.94386023],\n",
       "       [-1.05484305,  0.73811238,  0.06873167],\n",
       "       [ 0.10364107, -0.1877941 ,  0.0903548 ]])"
      ]
     },
     "execution_count": 4,
     "metadata": {},
     "output_type": "execute_result"
    }
   ],
   "source": [
    "import numpy as np\n",
    "R_1in0 = np.array([[0.85493097, -0.51788780, 0.02975344], [0.42179075, 0.66061436, -0.62103239], [0.30196955, 0.54348955, 0.78321996]])\n",
    "w_01in1 = np.array([[-0.58332572], [-0.75066055], [-0.89107741]]) \n",
    "\n",
    "R_dot = R_1in0 @ vec2skewsym(w_01in1)\n",
    "\n",
    "R_dot"
   ]
  },
  {
   "cell_type": "markdown",
   "id": "5ec9775b",
   "metadata": {},
   "source": [
    "HW3.5. Find the time derivative of a rotation matrix given angular velocity "
   ]
  },
  {
   "cell_type": "code",
   "execution_count": 5,
   "id": "4a7fb777",
   "metadata": {},
   "outputs": [
    {
     "data": {
      "text/plain": [
       "array([[ 0.0000000e+00,  4.0388791e-01,  4.7485381e-01],\n",
       "       [-4.0388791e-01,  0.0000000e+00, -3.3785000e-04],\n",
       "       [-4.7485381e-01,  3.3785000e-04,  0.0000000e+00]])"
      ]
     },
     "execution_count": 5,
     "metadata": {},
     "output_type": "execute_result"
    }
   ],
   "source": [
    "import numpy as np \n",
    "w_01in0 = np.array([[0.00033785], [0.47485381], [-0.40388791]]) \n",
    "w_01in1 = np.array([[-0.29491057], [-0.10581010], [-0.53892826]]) \n",
    "\n",
    "vec2skewsym(w_01in0)"
   ]
  },
  {
   "cell_type": "markdown",
   "id": "d38ad53c",
   "metadata": {},
   "source": [
    "HW3.6. Find angular velocity with respect to a different frame "
   ]
  },
  {
   "cell_type": "code",
   "execution_count": 6,
   "id": "40ee68d3",
   "metadata": {},
   "outputs": [
    {
     "data": {
      "text/plain": [
       "array([[-0.77851287],\n",
       "       [-0.56486521],\n",
       "       [ 0.34830651]])"
      ]
     },
     "execution_count": 6,
     "metadata": {},
     "output_type": "execute_result"
    }
   ],
   "source": [
    "import numpy as np \n",
    "R_1in0 = np.array([[0.59612900, 0.36052263, 0.71739365], [0.44835420, 0.59173953, -0.66994241], [-0.66603958, 0.72101856, 0.19111127]]) \n",
    "w_01in1 = np.array([[0.94933971], [0.36378912], [0.11350773]]) \n",
    "\n",
    "R_dot = R_1in0 @ vec2skewsym(w_01in1)\n",
    "w_01in0 = R_dot @ R_1in0.T\n",
    "\n",
    "w_10in0 = w_01in0.T\n",
    "skewsym2vec(w_10in0)"
   ]
  },
  {
   "cell_type": "markdown",
   "id": "022191c5",
   "metadata": {},
   "source": [
    "HW3.7. Find the pose of the end-effector frame for a robot with one joint "
   ]
  },
  {
   "cell_type": "code",
   "execution_count": 7,
   "id": "7f599e13",
   "metadata": {},
   "outputs": [
    {
     "data": {
      "text/plain": [
       "array([[-0.61374575,  0.78950374,  0.        ,  0.        ],\n",
       "       [ 0.        ,  0.        , -1.        ,  0.        ],\n",
       "       [-0.78950374, -0.61374575,  0.        , -4.        ],\n",
       "       [ 0.        ,  0.        ,  0.        ,  1.        ]])"
      ]
     },
     "execution_count": 7,
     "metadata": {},
     "output_type": "execute_result"
    }
   ],
   "source": [
    "import numpy as np \n",
    "theta = 0.85 \n",
    "T_1 = np.array([[-1,0,0,0], [0,0,-1,0], [0,-1,0,-4], [0,0,0,1]])\n",
    "T_0j = np.array([[np.cos(0.91), -np.sin(0.91), 0, 0], [np.sin(0.91), np.cos(0.91), 0, 0], [0, 0, 1, 0], [0, 0, 0, 1]]) \n",
    "\n",
    "T_1 @ T_0j"
   ]
  },
  {
   "cell_type": "markdown",
   "id": "2bb83187",
   "metadata": {},
   "source": [
    "HW4.1. Find the pose of the end-effector frame for a robot with three joints "
   ]
  },
  {
   "cell_type": "code",
   "execution_count": 8,
   "id": "4d8a36b6",
   "metadata": {},
   "outputs": [],
   "source": [
    "def translate(vector): # vector: np.array([1,2,3])\n",
    "    transform = np.eye(4)\n",
    "    transform[:3,3:] = vector.reshape(3,1)\n",
    "    return transform\n",
    "\n",
    "def rotateX(angle):\n",
    "    transform = np.eye(4)\n",
    "    transform[1:3, 1:3] = np.array([[np.cos(angle), -np.sin(angle)], [np.sin(angle), np.cos(angle)]])\n",
    "    return transform\n",
    "\n",
    "def rotateY(angle):\n",
    "    transform = np.eye(4)\n",
    "    transform[:3, :3] = np.array([[np.cos(angle), 0, np.sin(angle)], [0,1,0], [-np.sin(angle), 0, np.cos(angle)]])\n",
    "    return transform\n",
    "\n",
    "def rotateZ(angle):\n",
    "    transform = np.eye(4)\n",
    "    transform[:2, :2] = np.array([[np.cos(angle), -np.sin(angle)], [np.sin(angle), np.cos(angle)]])\n",
    "    return transform"
   ]
  },
  {
   "cell_type": "code",
   "execution_count": 9,
   "id": "1ecca622",
   "metadata": {},
   "outputs": [
    {
     "data": {
      "text/plain": [
       "array([[-0.20642 ,  0.968462,  0.139543, -0.487731],\n",
       "       [ 0.978031,  0.20846 , -0.      ,  1.199345],\n",
       "       [-0.029089,  0.136477, -0.990216,  3.951029],\n",
       "       [ 0.      ,  0.      ,  0.      ,  1.      ]])"
      ]
     },
     "execution_count": 9,
     "metadata": {},
     "output_type": "execute_result"
    }
   ],
   "source": [
    "import numpy as np \n",
    "theta = -0.67\n",
    "\n",
    "# 1. Follow path strictly\n",
    "# 2. Rotate to final frame\n",
    "\n",
    "T_0j1 = translate(np.array([0,0,2])) @ rotateY(-0.14) \n",
    "T_j1j2 = translate(np.array([-2,0,0])) @ rotateZ(0.21)\n",
    "T_j2j3 = translate(np.array([0,0.8,2]))\n",
    "T_j31 = translate(np.array([2,0,0]))\n",
    "T_01 = rotateZ(-np.pi/2) @ rotateY(np.pi) \n",
    "\n",
    "T =  T_0j1 @ T_j1j2 @ T_j2j3 @ T_j31 @ T_01\n",
    "T.round(6)\n",
    "\n",
    "# T = translate(np.array([-0.65,-8.19,0.56])) @ rotateY(np.pi/2) @ rotateZ(np.pi/2)\n",
    "# T.round(6)"
   ]
  },
  {
   "cell_type": "markdown",
   "id": "db6fee31",
   "metadata": {},
   "source": [
    "HW5.1. Find the rotation matrix of a body after a constant twist is applied "
   ]
  },
  {
   "cell_type": "code",
   "execution_count": 10,
   "id": "da07272f",
   "metadata": {},
   "outputs": [],
   "source": [
    "def extract_mag_uvec(w):\n",
    "    mag = np.sqrt(np.sum(w ** 2))\n",
    "    w_hat = w / mag\n",
    "    return mag, w_hat\n",
    "\n",
    "def exponential(w):\n",
    "    I = np.identity(w.shape[0])\n",
    "    mag, w_hat = extract_mag_uvec(w)\n",
    "    w_hat_brac = vec2skewsym(w_hat)\n",
    "    return I + np.sin(mag) * w_hat_brac + (1 - np.cos(mag)) * w_hat_brac @ w_hat_brac\n"
   ]
  },
  {
   "cell_type": "code",
   "execution_count": 11,
   "id": "efa625ad",
   "metadata": {},
   "outputs": [
    {
     "data": {
      "text/plain": [
       "array([[ 0.36656793,  0.8676945 , -0.33575916],\n",
       "       [ 0.91953067, -0.39285462, -0.01133949],\n",
       "       [-0.14174375, -0.30458415, -0.94187961]])"
      ]
     },
     "execution_count": 11,
     "metadata": {},
     "output_type": "execute_result"
    }
   ],
   "source": [
    "import numpy as np \n",
    "w01 = np.array([[1.98], [1.31], [-0.35]]) \n",
    "t = 6.62 \n",
    "\n",
    "output = exponential(w01 * t)\n",
    "\n",
    "output.round(8)\n"
   ]
  },
  {
   "cell_type": "markdown",
   "id": "a3b99e75",
   "metadata": {},
   "source": [
    "HW5.2. Find the axis and angle that would produce a given rotation matrix "
   ]
  },
  {
   "cell_type": "code",
   "execution_count": 12,
   "id": "ae2b50ca",
   "metadata": {},
   "outputs": [
    {
     "data": {
      "text/plain": [
       "(0.2705834233532149,\n",
       " array([[ 0.93777867],\n",
       "        [-0.28108744],\n",
       "        [-0.20386515]]))"
      ]
     },
     "execution_count": 12,
     "metadata": {},
     "output_type": "execute_result"
    }
   ],
   "source": [
    "import numpy as np \n",
    "R = np.array([[0.99561303, 0.04490089, -0.08208897], [-0.06408284, 0.96648989, -0.24857731], [0.06817682, 0.25274731, 0.96512731]]) \n",
    "\n",
    "def find_axis_angle(R):\n",
    "    tr = np.trace(R)\n",
    "    if tr != -1:\n",
    "        theta = np.arccos(0.5 * (tr - 1))\n",
    "        w_hat_brac = (R - R.T) / (2 * np.sin(theta))\n",
    "        w_hat = skewsym2vec(w_hat_brac)\n",
    "    return theta, w_hat\n",
    "    \n",
    "ans = find_axis_angle(R)\n",
    "ans\n"
   ]
  },
  {
   "cell_type": "markdown",
   "id": "594afec9",
   "metadata": {},
   "source": [
    "HW5.3. Find the axis and angle that would align two frames "
   ]
  },
  {
   "cell_type": "code",
   "execution_count": 13,
   "id": "7632b837",
   "metadata": {},
   "outputs": [
    {
     "data": {
      "text/plain": [
       "(1.7349615955962285,\n",
       " array([[-0.83861026],\n",
       "        [ 0.08749776],\n",
       "        [ 0.53765879]]))"
      ]
     },
     "execution_count": 13,
     "metadata": {},
     "output_type": "execute_result"
    }
   ],
   "source": [
    "import numpy as np \n",
    "R_1in0 = np.array([[0.42588267, 0.06526382, 0.90242151], [0.38174268, 0.89131077, -0.24461733], [-0.82030267, 0.44867109, 0.35467983]]) \n",
    "R_2in0 = np.array([[0.94987438, 0.16533013, 0.26533868], [0.31252283, -0.52456094, -0.79193769], [0.00825515, 0.83516571, -0.54993644]]) \n",
    "\n",
    "R_12 = R_1in0.T @ R_2in0\n",
    "R_21 = R_12.T\n",
    "theta, w_hat_2 = find_axis_angle(R_21)\n",
    "w_hat_0 = R_2in0 @ w_hat_2\n",
    "\n",
    "theta, w_hat_0\n"
   ]
  },
  {
   "cell_type": "markdown",
   "id": "5525003f",
   "metadata": {},
   "source": [
    "HW5.4. Find the velocity of a point on a body after a constant angular velocity is applied"
   ]
  },
  {
   "cell_type": "code",
   "execution_count": 14,
   "id": "00e1330f",
   "metadata": {},
   "outputs": [
    {
     "data": {
      "text/plain": [
       "(array([[ 0.72711859],\n",
       "        [-0.68128678],\n",
       "        [-2.16408107]]),\n",
       " array([[-0.79830882],\n",
       "        [ 5.05427586],\n",
       "        [-1.85939268]]))"
      ]
     },
     "execution_count": 14,
     "metadata": {},
     "output_type": "execute_result"
    }
   ],
   "source": [
    "import numpy as np \n",
    "R01 = np.array([[0.233796657862, 0.733727835858, 0.637951867823], [0.878479649335, 0.121773552871, -0.462000765720], [-0.416668487502, 0.668441968093, -0.616094722275]]) \n",
    "w0 = np.array([[2.900000000000], [-0.160000000000], [-1.680000000000]]) \n",
    "t = 7.780000000000 \n",
    "p1 = np.array([[-0.690000000000], [-0.040000000000], [2.280000000000]]) \n",
    "\n",
    "w0_brac = vec2skewsym(w0)\n",
    "# w1_brac = vec2skewsym(w1)\n",
    "\n",
    "\n",
    "R0_t = exponential(w0 * t)\n",
    "# R1_t = exponential(w1 * t)\n",
    "\n",
    "R01_t = R0_t @ R01\n",
    "# R01_t = R01 @ R1_t\n",
    "\n",
    "w1_brac = R01.T @ w0_brac @ R01\n",
    "# w0_brac = R01 @ w1_brac @ R01.T\n",
    "\n",
    "p0_t = R01_t @ p1\n",
    "v1_t = w1_brac @ p1\n",
    "v0_t = w0_brac @ p0_t\n",
    "\n",
    "p0_t, v0_t"
   ]
  },
  {
   "cell_type": "markdown",
   "id": "8d842cb2",
   "metadata": {},
   "source": [
    "HW5.5. Find linear and angular velocity given twist \n",
    "\n"
   ]
  },
  {
   "cell_type": "code",
   "execution_count": 15,
   "id": "2188b735",
   "metadata": {},
   "outputs": [
    {
     "data": {
      "text/plain": [
       "(array([[ -8],\n",
       "        [  4],\n",
       "        [-10]]),\n",
       " array([[-8],\n",
       "        [-7],\n",
       "        [-1]]))"
      ]
     },
     "execution_count": 15,
     "metadata": {},
     "output_type": "execute_result"
    }
   ],
   "source": [
    "import numpy as np \n",
    "V_sbinb = np.array([[ -8], [ 4], [-10], [ -8], [ -7], [ -1]]) \n",
    "\n",
    "def find_w_v(V):\n",
    "    w = V[:3]\n",
    "    v = V[3:]\n",
    "    return w, v\n",
    "\n",
    "ans = find_w_v(V_sbinb)\n",
    "ans"
   ]
  },
  {
   "cell_type": "markdown",
   "id": "08648638",
   "metadata": {},
   "source": [
    "HW5.6. Find the matrix representation of a twist "
   ]
  },
  {
   "cell_type": "code",
   "execution_count": 16,
   "id": "52f0dd5d",
   "metadata": {},
   "outputs": [
    {
     "data": {
      "text/plain": [
       "array([[ 0., -9.,  0., -1.],\n",
       "       [ 9.,  0.,  5., 10.],\n",
       "       [ 0., -5.,  0., 10.],\n",
       "       [ 0.,  0.,  0.,  0.]])"
      ]
     },
     "execution_count": 16,
     "metadata": {},
     "output_type": "execute_result"
    }
   ],
   "source": [
    "import numpy as np \n",
    "V = np.array([[-5], [ 0], [ 9], [-1], [10], [10]]) \n",
    "\n",
    "def brac_twist(V):\n",
    "    brac = np.zeros((4,4))\n",
    "    w, v = find_w_v(V)\n",
    "    brac[:3, :3] = vec2skewsym(w)\n",
    "    brac[:3, 3] = v.reshape(3)\n",
    "    return brac\n",
    "\n",
    "brac_twist(V)\n",
    "    \n"
   ]
  },
  {
   "cell_type": "markdown",
   "id": "401bea97",
   "metadata": {},
   "source": [
    "HW6.1. Find the pose that is produced by a given twist "
   ]
  },
  {
   "cell_type": "code",
   "execution_count": 27,
   "id": "07f743aa",
   "metadata": {},
   "outputs": [
    {
     "data": {
      "text/plain": [
       "array([[ 0.46413959, -0.17205549, -0.86889087,  2.06587299],\n",
       "       [ 0.81668611, -0.29665323,  0.49499562, -1.55537826],\n",
       "       [-0.342926  , -0.93935817,  0.00282683,  1.81154927],\n",
       "       [ 0.        ,  0.        ,  0.        ,  1.        ]])"
      ]
     },
     "execution_count": 27,
     "metadata": {},
     "output_type": "execute_result"
    }
   ],
   "source": [
    "import numpy as np\n",
    "from scipy.linalg import expm\n",
    "\n",
    "M = np.array([[-0.01546255, -0.00854627, -0.99984392, 1.62302448], [0.82386281, 0.56651645, -0.01758337, -0.88732518], [0.56657830, -0.82400611, -0.00171883, 2.05976778], [0.00000000, 0.00000000, 0.00000000, 1.00000000]])\n",
    "V_b = np.array([[-0.06536037], [0.55193012], [0.92852084], [-0.58955685], [0.15682011], [-0.62183541]])\n",
    "\n",
    "T = expm(brac_twist(V_b))\n",
    "T01 = M @ T\n",
    "\n",
    "T01"
   ]
  },
  {
   "cell_type": "markdown",
   "id": "aa847379",
   "metadata": {},
   "source": [
    "HW6.2. Find the adjoint of a Homogeneous transformation matrix "
   ]
  },
  {
   "cell_type": "code",
   "execution_count": 29,
   "id": "0916dc1c",
   "metadata": {},
   "outputs": [
    {
     "data": {
      "text/plain": [
       "array([[-0.41,  0.84, -0.37,  0.  ,  0.  ,  0.  ],\n",
       "       [ 0.04, -0.39, -0.92,  0.  ,  0.  ,  0.  ],\n",
       "       [-0.91, -0.39,  0.13,  0.  ,  0.  ,  0.  ],\n",
       "       [ 0.  , -0.39, -0.9 , -0.41,  0.84, -0.37],\n",
       "       [ 1.02, -0.56,  0.27,  0.04, -0.39, -0.92],\n",
       "       [ 0.04, -0.29, -0.61, -0.91, -0.39,  0.13]])"
      ]
     },
     "execution_count": 29,
     "metadata": {},
     "output_type": "execute_result"
    }
   ],
   "source": [
    "import numpy as np\n",
    "\n",
    "T = np.array([[-0.40545678, 0.83782523, -0.36558676, 0.67732401], [0.03597397, -0.38500108, -0.92221475, 0.03728064], [-0.91340608, -0.38706983, 0.12596140, -0.98014651], [0.00000000, 0.00000000, 0.00000000, 1.00000000]])\n",
    "\n",
    "def adjoint(T):\n",
    "    AdT = np.zeros((6,6))\n",
    "    R = T[:3, :3]\n",
    "    p = T[:3, 3]\n",
    "    AdT[:3, :3] = R\n",
    "    AdT[3:6, 3:6] = R\n",
    "    AdT[3:6, :3] = vec2skewsym(p) @ R\n",
    "    return AdT\n",
    "\n",
    "adjoint(T).round(2)"
   ]
  },
  {
   "cell_type": "markdown",
   "id": "d3a0bab2",
   "metadata": {},
   "source": [
    "HW6.3. Find spatial twist given body twist"
   ]
  },
  {
   "cell_type": "code",
   "execution_count": 31,
   "id": "20d6d8db",
   "metadata": {},
   "outputs": [
    {
     "data": {
      "text/plain": [
       "array([[-0.36861584],\n",
       "       [-0.37240913],\n",
       "       [-0.53200966],\n",
       "       [-0.13741596],\n",
       "       [ 0.89274239],\n",
       "       [ 0.26831032]])"
      ]
     },
     "execution_count": 31,
     "metadata": {},
     "output_type": "execute_result"
    }
   ],
   "source": [
    "import numpy as np\n",
    "\n",
    "V_sb_in_b = np.array([[-0.60337074], [0.22331047], [-0.37904705], [0.87374773], [0.85939950], [0.23552352]])\n",
    "T_sb = np.array([[0.47942152, -0.83153171, -0.28055307, -0.00109418], [0.85340960, 0.51626855, -0.07182506, 0.10825262], [0.20456554, -0.20499220, 0.95714740, 0.75716940], [0.00000000, 0.00000000, 0.00000000, 1.00000000]])\n",
    "\n",
    "V_s = adjoint(T_sb) @ V_sb_in_b\n",
    "\n",
    "V_s"
   ]
  },
  {
   "cell_type": "markdown",
   "id": "0fe45844",
   "metadata": {},
   "source": [
    "HW6.4. Find velocity of a point on a body given spatial twist "
   ]
  },
  {
   "cell_type": "code",
   "execution_count": 36,
   "id": "68c11580",
   "metadata": {},
   "outputs": [
    {
     "data": {
      "text/plain": [
       "array([[ 0.10622161],\n",
       "       [ 0.63694551],\n",
       "       [-0.63216472],\n",
       "       [ 0.        ]])"
      ]
     },
     "execution_count": 36,
     "metadata": {},
     "output_type": "execute_result"
    }
   ],
   "source": [
    "import numpy as np\n",
    "\n",
    "T_sb = np.array([[0.26292707, -0.10849408, -0.95869619, -0.74127211], [-0.96102981, 0.05848990, -0.27018629, -0.86985088], [0.08538765, 0.99237491, -0.08888747, 0.72306559], [0.00000000, 0.00000000, 0.00000000, 1.00000000]])\n",
    "V_sb_in_s = np.array([[-0.25877308], [-0.09313381], [0.54261482], [-1.04412795], [0.95968992], [0.07654600]])\n",
    "q_B = np.array([[1.79608082], [-0.22991656], [1.63662523], [1.00000000]])\n",
    "\n",
    "AdT = adjoint(T_sb)\n",
    "V_b = np.linalg.inv(AdT) @ V_sb_in_s\n",
    "\n",
    "v = V_b[3:]\n",
    "omega = V_b[:3]\n",
    "velocity = np.zeros((4,1))\n",
    "velocity[:3] = v + vec2skewsym(omega) @ q_B[:3]\n",
    "velocity"
   ]
  },
  {
   "cell_type": "markdown",
   "id": "9c3bc408",
   "metadata": {},
   "source": [
    "HW6.5. Find the rotation matrix produced by a given axis and angle"
   ]
  },
  {
   "cell_type": "code",
   "execution_count": 39,
   "id": "1a0ed407",
   "metadata": {},
   "outputs": [
    {
     "data": {
      "text/plain": [
       "array([[-0.93, -0.25,  0.27],\n",
       "       [-0.22,  0.97,  0.13],\n",
       "       [-0.29,  0.06, -0.95]])"
      ]
     },
     "execution_count": 39,
     "metadata": {},
     "output_type": "execute_result"
    }
   ],
   "source": [
    "import numpy as np\n",
    "\n",
    "w = np.array([[0.12078151], [-0.99149727], [-0.04842514]])\n",
    "theta = -2.85288830\n",
    "\n",
    "R = expm(vec2skewsym(theta * w)).round(2)\n",
    "R"
   ]
  },
  {
   "cell_type": "markdown",
   "id": "b420d30a",
   "metadata": {},
   "source": [
    "HW6.6. Find the coordinates of a point in a different frame "
   ]
  },
  {
   "cell_type": "code",
   "execution_count": 41,
   "id": "23b9a3eb",
   "metadata": {},
   "outputs": [
    {
     "data": {
      "text/plain": [
       "array([[ 0.92729223],\n",
       "       [ 0.09384629],\n",
       "       [-1.85248297],\n",
       "       [ 1.        ]])"
      ]
     },
     "execution_count": 41,
     "metadata": {},
     "output_type": "execute_result"
    }
   ],
   "source": [
    "import numpy as np\n",
    "\n",
    "T_73 = np.array([[-0.30919333, -0.02513162, -0.95066707, -0.80782170], [0.79889595, 0.53544070, -0.27398634, -0.87598622], [0.51591156, -0.84419883, -0.14547715, 0.13871127], [0.00000000, 0.00000000, 0.00000000, 1.00000000]])\n",
    "p_7 = np.array([[0.66420177], [0.42262794], [0.80738107], [1]])\n",
    "\n",
    "\n",
    "p = np.linalg.inv(T_73) @ p_7\n",
    "p"
   ]
  },
  {
   "cell_type": "markdown",
   "id": "3b97c255",
   "metadata": {},
   "source": [
    "HW6.7. Find the coordinates of a vector in a different frame"
   ]
  },
  {
   "cell_type": "code",
   "execution_count": 42,
   "id": "8a053fd2",
   "metadata": {},
   "outputs": [
    {
     "data": {
      "text/plain": [
       "array([[-0.38366779],\n",
       "       [-0.54810818],\n",
       "       [-0.25740679],\n",
       "       [ 0.        ]])"
      ]
     },
     "execution_count": 42,
     "metadata": {},
     "output_type": "execute_result"
    }
   ],
   "source": [
    "import numpy as np \n",
    "T_27 = np.array([[-0.50965624, -0.05236289, 0.85878324, -0.25321511], [0.80022954, -0.39549888, 0.45079188, 0.65484813], [0.31604304, 0.91697261, 0.24347080, -0.58934007], [0.00000000, 0.00000000, 0.00000000, 1.00000000]]) \n",
    "v_2 = np.array([[0.00318257], [-0.20628302], [-0.68652676], [0]]) \n",
    "\n",
    "v = np.linalg.inv(T_27) @ v_2\n",
    "v"
   ]
  },
  {
   "cell_type": "markdown",
   "id": "2865fd7e",
   "metadata": {},
   "source": [
    "HW6.8. Find the inverse transformation"
   ]
  },
  {
   "cell_type": "code",
   "execution_count": 43,
   "id": "e38e0e8c",
   "metadata": {},
   "outputs": [
    {
     "data": {
      "text/plain": [
       "array([[-0.40357108, -0.82966721,  0.38572362, -0.23721857],\n",
       "       [-0.84220068,  0.17211853, -0.51095325, -0.32404791],\n",
       "       [ 0.35753097, -0.53106265, -0.76820835,  0.72924741],\n",
       "       [ 0.        ,  0.        ,  0.        ,  1.        ]])"
      ]
     },
     "execution_count": 43,
     "metadata": {},
     "output_type": "execute_result"
    }
   ],
   "source": [
    "import numpy as np\n",
    "\n",
    "T_07 = np.array([[-0.40357108, -0.84220068, 0.35753097, -0.62937646], [-0.82966720, 0.17211853, -0.53106265, 0.24623825], [0.38572362, -0.51095325, -0.76820835, 0.48614142], [0.00000000, 0.00000000, 0.00000000, 1.00000000]])\n",
    "\n",
    "T = np.linalg.inv(T_07)\n",
    "T"
   ]
  },
  {
   "cell_type": "code",
   "execution_count": null,
   "id": "8259dd85",
   "metadata": {},
   "outputs": [],
   "source": []
  }
 ],
 "metadata": {
  "kernelspec": {
   "display_name": "Python 3 (ipykernel)",
   "language": "python",
   "name": "python3"
  },
  "language_info": {
   "codemirror_mode": {
    "name": "ipython",
    "version": 3
   },
   "file_extension": ".py",
   "mimetype": "text/x-python",
   "name": "python",
   "nbconvert_exporter": "python",
   "pygments_lexer": "ipython3",
   "version": "3.10.6"
  }
 },
 "nbformat": 4,
 "nbformat_minor": 5
}
