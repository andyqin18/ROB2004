{
 "cells": [
  {
   "cell_type": "markdown",
   "id": "83afce38",
   "metadata": {},
   "source": [
    "HW3.1. Find a vector given its skew-symmetric matrix representation "
   ]
  },
  {
   "cell_type": "code",
   "execution_count": 1,
   "id": "563f65a4",
   "metadata": {},
   "outputs": [
    {
     "data": {
      "text/plain": [
       "array([[ 5],\n",
       "       [ 3],\n",
       "       [-9]])"
      ]
     },
     "execution_count": 1,
     "metadata": {},
     "output_type": "execute_result"
    }
   ],
   "source": [
    "import numpy as np \n",
    "a_skew = np.array([[ 0, 9, 3], [-9, 0, -5], [-3, 5, 0]])\n",
    "# ===========================================\n",
    "def skewsym2vec(array):\n",
    "    return np.array([array[2][1], array[0][2], array[1][0]]).reshape(3,1)\n",
    "\n",
    "skewsym2vec(a_skew)"
   ]
  },
  {
   "cell_type": "markdown",
   "id": "3a789e65",
   "metadata": {},
   "source": [
    "HW3.2. Find the skew-symmetric matrix representation of a vector "
   ]
  },
  {
   "cell_type": "code",
   "execution_count": 2,
   "id": "639c4f26",
   "metadata": {},
   "outputs": [
    {
     "data": {
      "text/plain": [
       "array([[  0.,  -4.,  -9.],\n",
       "       [  4.,   0., -10.],\n",
       "       [  9.,  10.,   0.]])"
      ]
     },
     "execution_count": 2,
     "metadata": {},
     "output_type": "execute_result"
    }
   ],
   "source": [
    "import numpy as np \n",
    "a = np.array([[10], [-9], [ 4]]) \n",
    "# ===========================================\n",
    "def vec2skewsym(array):\n",
    "    a_skew = np.zeros((3,3))\n",
    "    a_skew[2][1], a_skew[1][2] = array[0], -array[0]\n",
    "    a_skew[0][2], a_skew[2][0] = array[1], -array[1]\n",
    "    a_skew[1][0], a_skew[0][1] = array[2], -array[2]\n",
    "    return a_skew\n",
    "\n",
    "vec2skewsym(a)"
   ]
  },
  {
   "cell_type": "markdown",
   "id": "d8f29dad",
   "metadata": {},
   "source": [
    "HW3.3. Write a matrix expression that implements the cross product "
   ]
  },
  {
   "cell_type": "code",
   "execution_count": 3,
   "id": "5c65c015",
   "metadata": {},
   "outputs": [
    {
     "data": {
      "text/plain": [
       "array([[ 0.,  2., -7.],\n",
       "       [-2.,  0.,  9.],\n",
       "       [ 7., -9.,  0.]])"
      ]
     },
     "execution_count": 3,
     "metadata": {},
     "output_type": "execute_result"
    }
   ],
   "source": [
    "import numpy as np \n",
    "v_in8 = np.array([[-9], [-7], [-2]]) \n",
    "# ===========================================\n",
    "vec2skewsym(v_in8)"
   ]
  },
  {
   "cell_type": "markdown",
   "id": "2285562f",
   "metadata": {},
   "source": [
    "HW3.4. Find the time derivative of a rotation matrix given angular velocity "
   ]
  },
  {
   "cell_type": "code",
   "execution_count": 4,
   "id": "b83476c2",
   "metadata": {},
   "outputs": [
    {
     "data": {
      "text/plain": [
       "array([[ 0.48381285,  0.74445373, -0.94386023],\n",
       "       [-1.05484305,  0.73811238,  0.06873167],\n",
       "       [ 0.10364107, -0.1877941 ,  0.0903548 ]])"
      ]
     },
     "execution_count": 4,
     "metadata": {},
     "output_type": "execute_result"
    }
   ],
   "source": [
    "import numpy as np\n",
    "R_1in0 = np.array([[0.85493097, -0.51788780, 0.02975344], [0.42179075, 0.66061436, -0.62103239], [0.30196955, 0.54348955, 0.78321996]])\n",
    "w_01in1 = np.array([[-0.58332572], [-0.75066055], [-0.89107741]]) \n",
    "\n",
    "R_dot = R_1in0 @ vec2skewsym(w_01in1)\n",
    "\n",
    "R_dot"
   ]
  },
  {
   "cell_type": "markdown",
   "id": "5ec9775b",
   "metadata": {},
   "source": [
    "HW3.5. Find the time derivative of a rotation matrix given angular velocity "
   ]
  },
  {
   "cell_type": "code",
   "execution_count": 5,
   "id": "4a7fb777",
   "metadata": {},
   "outputs": [
    {
     "data": {
      "text/plain": [
       "array([[ 0.0000000e+00,  4.0388791e-01,  4.7485381e-01],\n",
       "       [-4.0388791e-01,  0.0000000e+00, -3.3785000e-04],\n",
       "       [-4.7485381e-01,  3.3785000e-04,  0.0000000e+00]])"
      ]
     },
     "execution_count": 5,
     "metadata": {},
     "output_type": "execute_result"
    }
   ],
   "source": [
    "import numpy as np \n",
    "w_01in0 = np.array([[0.00033785], [0.47485381], [-0.40388791]]) \n",
    "w_01in1 = np.array([[-0.29491057], [-0.10581010], [-0.53892826]]) \n",
    "\n",
    "vec2skewsym(w_01in0)"
   ]
  },
  {
   "cell_type": "markdown",
   "id": "d38ad53c",
   "metadata": {},
   "source": [
    "HW3.6. Find angular velocity with respect to a different frame "
   ]
  },
  {
   "cell_type": "code",
   "execution_count": 6,
   "id": "40ee68d3",
   "metadata": {},
   "outputs": [
    {
     "data": {
      "text/plain": [
       "array([[-0.77851287],\n",
       "       [-0.56486521],\n",
       "       [ 0.34830651]])"
      ]
     },
     "execution_count": 6,
     "metadata": {},
     "output_type": "execute_result"
    }
   ],
   "source": [
    "import numpy as np \n",
    "R_1in0 = np.array([[0.59612900, 0.36052263, 0.71739365], [0.44835420, 0.59173953, -0.66994241], [-0.66603958, 0.72101856, 0.19111127]]) \n",
    "w_01in1 = np.array([[0.94933971], [0.36378912], [0.11350773]]) \n",
    "\n",
    "R_dot = R_1in0 @ vec2skewsym(w_01in1)\n",
    "w_01in0 = R_dot @ R_1in0.T\n",
    "\n",
    "w_10in0 = w_01in0.T\n",
    "skewsym2vec(w_10in0)"
   ]
  },
  {
   "cell_type": "markdown",
   "id": "022191c5",
   "metadata": {},
   "source": [
    "HW3.7. Find the pose of the end-effector frame for a robot with one joint "
   ]
  },
  {
   "cell_type": "code",
   "execution_count": 7,
   "id": "7f599e13",
   "metadata": {},
   "outputs": [
    {
     "data": {
      "text/plain": [
       "array([[-0.61374575,  0.78950374,  0.        ,  0.        ],\n",
       "       [ 0.        ,  0.        , -1.        ,  0.        ],\n",
       "       [-0.78950374, -0.61374575,  0.        , -4.        ],\n",
       "       [ 0.        ,  0.        ,  0.        ,  1.        ]])"
      ]
     },
     "execution_count": 7,
     "metadata": {},
     "output_type": "execute_result"
    }
   ],
   "source": [
    "import numpy as np \n",
    "theta = 0.85 \n",
    "T_1 = np.array([[-1,0,0,0], [0,0,-1,0], [0,-1,0,-4], [0,0,0,1]])\n",
    "T_0j = np.array([[np.cos(0.91), -np.sin(0.91), 0, 0], [np.sin(0.91), np.cos(0.91), 0, 0], [0, 0, 1, 0], [0, 0, 0, 1]]) \n",
    "\n",
    "T_1 @ T_0j"
   ]
  },
  {
   "cell_type": "markdown",
   "id": "2bb83187",
   "metadata": {},
   "source": [
    "HW4.1. Find the pose of the end-effector frame for a robot with three joints "
   ]
  },
  {
   "cell_type": "code",
   "execution_count": 8,
   "id": "4d8a36b6",
   "metadata": {},
   "outputs": [],
   "source": [
    "def translate(vector): # vector: np.array([1,2,3])\n",
    "    transform = np.eye(4)\n",
    "    transform[:3,3:] = vector.reshape(3,1)\n",
    "    return transform\n",
    "\n",
    "def rotateX(angle):\n",
    "    transform = np.eye(4)\n",
    "    transform[1:3, 1:3] = np.array([[np.cos(angle), -np.sin(angle)], [np.sin(angle), np.cos(angle)]])\n",
    "    return transform\n",
    "\n",
    "def rotateY(angle):\n",
    "    transform = np.eye(4)\n",
    "    transform[:3, :3] = np.array([[np.cos(angle), 0, np.sin(angle)], [0,1,0], [-np.sin(angle), 0, np.cos(angle)]])\n",
    "    return transform\n",
    "\n",
    "def rotateZ(angle):\n",
    "    transform = np.eye(4)\n",
    "    transform[:2, :2] = np.array([[np.cos(angle), -np.sin(angle)], [np.sin(angle), np.cos(angle)]])\n",
    "    return transform"
   ]
  },
  {
   "cell_type": "code",
   "execution_count": 9,
   "id": "1ecca622",
   "metadata": {},
   "outputs": [
    {
     "data": {
      "text/plain": [
       "array([[-0.20642 ,  0.968462,  0.139543, -0.487731],\n",
       "       [ 0.978031,  0.20846 , -0.      ,  1.199345],\n",
       "       [-0.029089,  0.136477, -0.990216,  3.951029],\n",
       "       [ 0.      ,  0.      ,  0.      ,  1.      ]])"
      ]
     },
     "execution_count": 9,
     "metadata": {},
     "output_type": "execute_result"
    }
   ],
   "source": [
    "import numpy as np \n",
    "theta = -0.67\n",
    "\n",
    "# 1. Follow path strictly\n",
    "# 2. Rotate to final frame\n",
    "\n",
    "T_0j1 = translate(np.array([0,0,2])) @ rotateY(-0.14) \n",
    "T_j1j2 = translate(np.array([-2,0,0])) @ rotateZ(0.21)\n",
    "T_j2j3 = translate(np.array([0,0.8,2]))\n",
    "T_j31 = translate(np.array([2,0,0]))\n",
    "T_01 = rotateZ(-np.pi/2) @ rotateY(np.pi) \n",
    "\n",
    "T =  T_0j1 @ T_j1j2 @ T_j2j3 @ T_j31 @ T_01\n",
    "T.round(6)\n",
    "\n",
    "# T = translate(np.array([-0.65,-8.19,0.56])) @ rotateY(np.pi/2) @ rotateZ(np.pi/2)\n",
    "# T.round(6)"
   ]
  },
  {
   "cell_type": "markdown",
   "id": "db6fee31",
   "metadata": {},
   "source": [
    "HW5.1. Find the rotation matrix of a body after a constant twist is applied "
   ]
  },
  {
   "cell_type": "code",
   "execution_count": 16,
   "id": "da07272f",
   "metadata": {},
   "outputs": [],
   "source": [
    "def extract_mag_uvec(w):\n",
    "    mag = np.sqrt(np.sum(w ** 2))\n",
    "    w_hat = w / mag\n",
    "    return mag, w_hat\n",
    "\n",
    "def exponential(w):\n",
    "    I = np.identity(w.shape[0])\n",
    "    mag, w_hat = extract_mag_uvec(w)\n",
    "    w_hat_brac = vec2skewsym(w_hat)\n",
    "    return I + np.sin(mag) * w_hat_brac + (1 - np.cos(mag)) * w_hat_brac @ w_hat_brac\n"
   ]
  },
  {
   "cell_type": "code",
   "execution_count": 21,
   "id": "efa625ad",
   "metadata": {},
   "outputs": [
    {
     "data": {
      "text/plain": [
       "array([[ 0.36656793,  0.8676945 , -0.33575916],\n",
       "       [ 0.91953067, -0.39285462, -0.01133949],\n",
       "       [-0.14174375, -0.30458415, -0.94187961]])"
      ]
     },
     "execution_count": 21,
     "metadata": {},
     "output_type": "execute_result"
    }
   ],
   "source": [
    "import numpy as np \n",
    "w01 = np.array([[1.98], [1.31], [-0.35]]) \n",
    "t = 6.62 \n",
    "\n",
    "output = exponential(w01 * t)\n",
    "\n",
    "output.round(8)\n"
   ]
  },
  {
   "cell_type": "markdown",
   "id": "a3b99e75",
   "metadata": {},
   "source": [
    "HW5.2. Find the axis and angle that would produce a given rotation matrix "
   ]
  },
  {
   "cell_type": "code",
   "execution_count": 31,
   "id": "ae2b50ca",
   "metadata": {},
   "outputs": [
    {
     "data": {
      "text/plain": [
       "(0.2705834233532149,\n",
       " array([[ 0.93777867],\n",
       "        [-0.28108744],\n",
       "        [-0.20386515]]))"
      ]
     },
     "execution_count": 31,
     "metadata": {},
     "output_type": "execute_result"
    }
   ],
   "source": [
    "import numpy as np \n",
    "R = np.array([[0.99561303, 0.04490089, -0.08208897], [-0.06408284, 0.96648989, -0.24857731], [0.06817682, 0.25274731, 0.96512731]]) \n",
    "\n",
    "def find_axis_angle(R):\n",
    "    tr = np.trace(R)\n",
    "    if tr != -1:\n",
    "        theta = np.arccos(0.5 * (tr - 1))\n",
    "        w_hat_brac = (R - R.T) / (2 * np.sin(theta))\n",
    "        w_hat = skewsym2vec(w_hat_brac)\n",
    "    return theta, w_hat\n",
    "    \n",
    "ans = find_axis_angle(R)\n",
    "ans\n"
   ]
  },
  {
   "cell_type": "markdown",
   "id": "594afec9",
   "metadata": {},
   "source": [
    "HW5.3. Find the axis and angle that would align two frames "
   ]
  },
  {
   "cell_type": "code",
   "execution_count": 34,
   "id": "7632b837",
   "metadata": {},
   "outputs": [
    {
     "data": {
      "text/plain": [
       "(1.7349615955962285,\n",
       " array([[-0.83861026],\n",
       "        [ 0.08749776],\n",
       "        [ 0.53765879]]))"
      ]
     },
     "execution_count": 34,
     "metadata": {},
     "output_type": "execute_result"
    }
   ],
   "source": [
    "import numpy as np \n",
    "R_1in0 = np.array([[0.42588267, 0.06526382, 0.90242151], [0.38174268, 0.89131077, -0.24461733], [-0.82030267, 0.44867109, 0.35467983]]) \n",
    "R_2in0 = np.array([[0.94987438, 0.16533013, 0.26533868], [0.31252283, -0.52456094, -0.79193769], [0.00825515, 0.83516571, -0.54993644]]) \n",
    "\n",
    "R_12 = R_1in0.T @ R_2in0\n",
    "R_21 = R_12.T\n",
    "theta, w_hat_2 = find_axis_angle(R_21)\n",
    "w_hat_0 = R_2in0 @ w_hat_2\n",
    "\n",
    "theta, w_hat_0\n"
   ]
  },
  {
   "cell_type": "markdown",
   "id": "5525003f",
   "metadata": {},
   "source": [
    "HW5.4. Find the velocity of a point on a body after a constant angular velocity is applied"
   ]
  },
  {
   "cell_type": "code",
   "execution_count": 43,
   "id": "00e1330f",
   "metadata": {},
   "outputs": [
    {
     "data": {
      "text/plain": [
       "(array([[ 0.72711859],\n",
       "        [-0.68128678],\n",
       "        [-2.16408107]]),\n",
       " array([[-0.79830882],\n",
       "        [ 5.05427586],\n",
       "        [-1.85939268]]))"
      ]
     },
     "execution_count": 43,
     "metadata": {},
     "output_type": "execute_result"
    }
   ],
   "source": [
    "import numpy as np \n",
    "R01 = np.array([[0.233796657862, 0.733727835858, 0.637951867823], [0.878479649335, 0.121773552871, -0.462000765720], [-0.416668487502, 0.668441968093, -0.616094722275]]) \n",
    "w0 = np.array([[2.900000000000], [-0.160000000000], [-1.680000000000]]) \n",
    "t = 7.780000000000 \n",
    "p1 = np.array([[-0.690000000000], [-0.040000000000], [2.280000000000]]) \n",
    "\n",
    "w0_brac = vec2skewsym(w0)\n",
    "# w1_brac = vec2skewsym(w1)\n",
    "\n",
    "\n",
    "R0_t = exponential(w0 * t)\n",
    "# R1_t = exponential(w1 * t)\n",
    "\n",
    "R01_t = R0_t @ R01\n",
    "# R01_t = R01 @ R1_t\n",
    "\n",
    "w1_brac = R01.T @ w0_brac @ R01\n",
    "# w0_brac = R01 @ w1_brac @ R01.T\n",
    "\n",
    "p0_t = R01_t @ p1\n",
    "v1_t = w1_brac @ p1\n",
    "v0_t = w0_brac @ p0_t\n",
    "\n",
    "p0_t, v0_t"
   ]
  },
  {
   "cell_type": "markdown",
   "id": "8d842cb2",
   "metadata": {},
   "source": [
    "HW5.5. Find linear and angular velocity given twist \n",
    "\n"
   ]
  },
  {
   "cell_type": "code",
   "execution_count": 47,
   "id": "2188b735",
   "metadata": {},
   "outputs": [
    {
     "data": {
      "text/plain": [
       "(array([[ -8],\n",
       "        [  4],\n",
       "        [-10]]),\n",
       " array([[-8],\n",
       "        [-7],\n",
       "        [-1]]))"
      ]
     },
     "execution_count": 47,
     "metadata": {},
     "output_type": "execute_result"
    }
   ],
   "source": [
    "import numpy as np \n",
    "V_sbinb = np.array([[ -8], [ 4], [-10], [ -8], [ -7], [ -1]]) \n",
    "\n",
    "def find_w_v(V):\n",
    "    w = V[:3]\n",
    "    v = V[3:]\n",
    "    return w, v\n",
    "\n",
    "ans = find_w_v(V_sbinb)\n",
    "ans"
   ]
  },
  {
   "cell_type": "markdown",
   "id": "08648638",
   "metadata": {},
   "source": [
    "HW5.6. Find the matrix representation of a twist "
   ]
  },
  {
   "cell_type": "code",
   "execution_count": 64,
   "id": "52f0dd5d",
   "metadata": {},
   "outputs": [
    {
     "data": {
      "text/plain": [
       "array([[ 0., -9.,  0., -1.],\n",
       "       [ 9.,  0.,  5., 10.],\n",
       "       [ 0., -5.,  0., 10.],\n",
       "       [ 0.,  0.,  0.,  0.]])"
      ]
     },
     "execution_count": 64,
     "metadata": {},
     "output_type": "execute_result"
    }
   ],
   "source": [
    "import numpy as np \n",
    "V = np.array([[-5], [ 0], [ 9], [-1], [10], [10]]) \n",
    "\n",
    "def brac_twist(V):\n",
    "    brac = np.zeros((4,4))\n",
    "    w, v = find_w_v(V)\n",
    "    brac[:3, :3] = vec2skewsym(w)\n",
    "    brac[:3, 3] = v.reshape(3)\n",
    "    return brac\n",
    "\n",
    "brac_twist(V)\n",
    "    \n"
   ]
  },
  {
   "cell_type": "code",
   "execution_count": null,
   "id": "07f743aa",
   "metadata": {},
   "outputs": [],
   "source": []
  }
 ],
 "metadata": {
  "kernelspec": {
   "display_name": "Python 3 (ipykernel)",
   "language": "python",
   "name": "python3"
  },
  "language_info": {
   "codemirror_mode": {
    "name": "ipython",
    "version": 3
   },
   "file_extension": ".py",
   "mimetype": "text/x-python",
   "name": "python",
   "nbconvert_exporter": "python",
   "pygments_lexer": "ipython3",
   "version": "3.10.6"
  }
 },
 "nbformat": 4,
 "nbformat_minor": 5
}
