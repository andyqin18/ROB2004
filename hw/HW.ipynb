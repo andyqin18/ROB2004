{
 "cells": [
  {
   "cell_type": "markdown",
   "id": "83afce38",
   "metadata": {},
   "source": [
    "HW3.1. Find a vector given its skew-symmetric matrix representation "
   ]
  },
  {
   "cell_type": "code",
   "execution_count": 14,
   "id": "563f65a4",
   "metadata": {},
   "outputs": [
    {
     "data": {
      "text/plain": [
       "array([[ 5],\n",
       "       [ 3],\n",
       "       [-9]])"
      ]
     },
     "execution_count": 14,
     "metadata": {},
     "output_type": "execute_result"
    }
   ],
   "source": [
    "import numpy as np \n",
    "a_skew = np.array([[ 0, 9, 3], [-9, 0, -5], [-3, 5, 0]])\n",
    "# ===========================================\n",
    "def skewsym2vec(array):\n",
    "    return np.array([array[2][1], array[0][2], array[1][0]]).reshape(3,1)\n",
    "\n",
    "skewsym2vec(a_skew)"
   ]
  },
  {
   "cell_type": "markdown",
   "id": "3a789e65",
   "metadata": {},
   "source": [
    "HW3.2. Find the skew-symmetric matrix representation of a vector "
   ]
  },
  {
   "cell_type": "code",
   "execution_count": 4,
   "id": "639c4f26",
   "metadata": {},
   "outputs": [
    {
     "data": {
      "text/plain": [
       "array([[  0.,  -4.,  -9.],\n",
       "       [  4.,   0., -10.],\n",
       "       [  9.,  10.,   0.]])"
      ]
     },
     "execution_count": 4,
     "metadata": {},
     "output_type": "execute_result"
    }
   ],
   "source": [
    "import numpy as np \n",
    "a = np.array([[10], [-9], [ 4]]) \n",
    "# ===========================================\n",
    "def vec2skewsym(array):\n",
    "    a_skew = np.zeros((3,3))\n",
    "    a_skew[2][1], a_skew[1][2] = array[0], -array[0]\n",
    "    a_skew[0][2], a_skew[2][0] = array[1], -array[1]\n",
    "    a_skew[1][0], a_skew[0][1] = array[2], -array[2]\n",
    "    return a_skew\n",
    "\n",
    "vec2skewsym(a)"
   ]
  },
  {
   "cell_type": "markdown",
   "id": "d8f29dad",
   "metadata": {},
   "source": [
    "HW3.3. Write a matrix expression that implements the cross product "
   ]
  },
  {
   "cell_type": "code",
   "execution_count": 5,
   "id": "5c65c015",
   "metadata": {},
   "outputs": [
    {
     "data": {
      "text/plain": [
       "array([[ 0.,  2., -7.],\n",
       "       [-2.,  0.,  9.],\n",
       "       [ 7., -9.,  0.]])"
      ]
     },
     "execution_count": 5,
     "metadata": {},
     "output_type": "execute_result"
    }
   ],
   "source": [
    "import numpy as np \n",
    "v_in8 = np.array([[-9], [-7], [-2]]) \n",
    "# ===========================================\n",
    "vec2skewsym(v_in8)"
   ]
  },
  {
   "cell_type": "markdown",
   "id": "2285562f",
   "metadata": {},
   "source": [
    "HW3.4. Find the time derivative of a rotation matrix given angular velocity "
   ]
  },
  {
   "cell_type": "code",
   "execution_count": 7,
   "id": "b83476c2",
   "metadata": {},
   "outputs": [
    {
     "data": {
      "text/plain": [
       "array([[ 0.48381285,  0.74445373, -0.94386023],\n",
       "       [-1.05484305,  0.73811238,  0.06873167],\n",
       "       [ 0.10364107, -0.1877941 ,  0.0903548 ]])"
      ]
     },
     "execution_count": 7,
     "metadata": {},
     "output_type": "execute_result"
    }
   ],
   "source": [
    "import numpy as np\n",
    "R_1in0 = np.array([[0.85493097, -0.51788780, 0.02975344], [0.42179075, 0.66061436, -0.62103239], [0.30196955, 0.54348955, 0.78321996]])\n",
    "w_01in1 = np.array([[-0.58332572], [-0.75066055], [-0.89107741]]) \n",
    "\n",
    "R_dot = R_1in0 @ vec2skewsym(w_01in1)\n",
    "\n",
    "R_dot"
   ]
  },
  {
   "cell_type": "markdown",
   "id": "5ec9775b",
   "metadata": {},
   "source": [
    "HW3.5. Find the time derivative of a rotation matrix given angular velocity "
   ]
  },
  {
   "cell_type": "code",
   "execution_count": 10,
   "id": "4a7fb777",
   "metadata": {},
   "outputs": [
    {
     "data": {
      "text/plain": [
       "array([[ 0.0000000e+00,  4.0388791e-01,  4.7485381e-01],\n",
       "       [-4.0388791e-01,  0.0000000e+00, -3.3785000e-04],\n",
       "       [-4.7485381e-01,  3.3785000e-04,  0.0000000e+00]])"
      ]
     },
     "execution_count": 10,
     "metadata": {},
     "output_type": "execute_result"
    }
   ],
   "source": [
    "import numpy as np \n",
    "w_01in0 = np.array([[0.00033785], [0.47485381], [-0.40388791]]) \n",
    "w_01in1 = np.array([[-0.29491057], [-0.10581010], [-0.53892826]]) \n",
    "\n",
    "vec2skewsym(w_01in0)"
   ]
  },
  {
   "cell_type": "markdown",
   "id": "d38ad53c",
   "metadata": {},
   "source": [
    "HW3.6. Find angular velocity with respect to a different frame "
   ]
  },
  {
   "cell_type": "code",
   "execution_count": 17,
   "id": "40ee68d3",
   "metadata": {},
   "outputs": [
    {
     "data": {
      "text/plain": [
       "array([[-0.77851287],\n",
       "       [-0.56486521],\n",
       "       [ 0.34830651]])"
      ]
     },
     "execution_count": 17,
     "metadata": {},
     "output_type": "execute_result"
    }
   ],
   "source": [
    "import numpy as np \n",
    "R_1in0 = np.array([[0.59612900, 0.36052263, 0.71739365], [0.44835420, 0.59173953, -0.66994241], [-0.66603958, 0.72101856, 0.19111127]]) \n",
    "w_01in1 = np.array([[0.94933971], [0.36378912], [0.11350773]]) \n",
    "\n",
    "R_dot = R_1in0 @ vec2skewsym(w_01in1)\n",
    "w_01in0 = R_dot @ R_1in0.T\n",
    "\n",
    "w_10in0 = w_01in0.T\n",
    "skewsym2vec(w_10in0)"
   ]
  },
  {
   "cell_type": "markdown",
   "id": "022191c5",
   "metadata": {},
   "source": [
    "HW3.7. Find the pose of the end-effector frame for a robot with one joint "
   ]
  },
  {
   "cell_type": "code",
   "execution_count": 23,
   "id": "7f599e13",
   "metadata": {},
   "outputs": [
    {
     "data": {
      "text/plain": [
       "array([[-0.61374575,  0.78950374,  0.        ,  0.        ],\n",
       "       [ 0.        ,  0.        , -1.        ,  0.        ],\n",
       "       [-0.78950374, -0.61374575,  0.        , -4.        ],\n",
       "       [ 0.        ,  0.        ,  0.        ,  1.        ]])"
      ]
     },
     "execution_count": 23,
     "metadata": {},
     "output_type": "execute_result"
    }
   ],
   "source": [
    "import numpy as np \n",
    "theta = 0.85 \n",
    "T_1 = np.array([[-1,0,0,0], [0,0,-1,0], [0,-1,0,-4], [0,0,0,1]])\n",
    "T_0j = np.array([[np.cos(0.91), -np.sin(0.91), 0, 0], [np.sin(0.91), np.cos(0.91), 0, 0], [0, 0, 1, 0], [0, 0, 0, 1]]) \n",
    "\n",
    "T_1 @ T_0j"
   ]
  },
  {
   "cell_type": "markdown",
   "id": "eae0eef3",
   "metadata": {},
   "source": [
    "# "
   ]
  }
 ],
 "metadata": {
  "kernelspec": {
   "display_name": "Python 3 (ipykernel)",
   "language": "python",
   "name": "python3"
  },
  "language_info": {
   "codemirror_mode": {
    "name": "ipython",
    "version": 3
   },
   "file_extension": ".py",
   "mimetype": "text/x-python",
   "name": "python",
   "nbconvert_exporter": "python",
   "pygments_lexer": "ipython3",
   "version": "3.10.6"
  }
 },
 "nbformat": 4,
 "nbformat_minor": 5
}
